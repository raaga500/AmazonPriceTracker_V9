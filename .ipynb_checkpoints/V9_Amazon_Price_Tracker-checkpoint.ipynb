{
 "cells": [
  {
   "cell_type": "markdown",
   "metadata": {},
   "source": [
    "# Amazon Price Tracker"
   ]
  },
  {
   "cell_type": "markdown",
   "metadata": {},
   "source": [
    "**Data Science with Raghav**"
   ]
  },
  {
   "cell_type": "markdown",
   "metadata": {},
   "source": [
    "### Price Tracking on Amazon"
   ]
  },
  {
   "cell_type": "markdown",
   "metadata": {},
   "source": [
    "This notebook demonstrates how we can create an automated python script to autmatically alert us whenever there is a price change in the item we are interested in. In addition to alerts this script will also store the price history in a pandas DataFrame for further analysis."
   ]
  },
  {
   "cell_type": "markdown",
   "metadata": {},
   "source": [
    "For this we will need to scrape data from Amazon using BeautifulSoup library."
   ]
  },
  {
   "cell_type": "markdown",
   "metadata": {},
   "source": [
    "**Dependencies**"
   ]
  },
  {
   "cell_type": "code",
   "execution_count": 269,
   "metadata": {},
   "outputs": [],
   "source": [
    "from bs4 import BeautifulSoup\n",
    "import requests\n",
    "import random\n",
    "import time\n",
    "import pandas as pd\n",
    "\n",
    "import os\n",
    "from os import path\n",
    "\n",
    "from email.mime.text import MIMEText\n",
    "from email.mime.application import MIMEApplication\n",
    "from email.mime.multipart import MIMEMultipart\n",
    "from smtplib import SMTP\n",
    "import smtplib, ssl\n",
    "import sys\n"
   ]
  },
  {
   "cell_type": "markdown",
   "metadata": {},
   "source": [
    "**Read Target URL from a file**"
   ]
  },
  {
   "cell_type": "code",
   "execution_count": 270,
   "metadata": {},
   "outputs": [],
   "source": [
    "target_URL = []\n",
    "target_name = []\n",
    "file_name = 'target_products.txt'\n",
    "def get_target_products_from_file(file_name):\n",
    "    global target_URL\n",
    "    global target_name\n",
    "    target_df = pd.read_csv(file_name)\n",
    "    print(f'Total products to be scraped: {target_df.shape[0]}')\n",
    "    target_URL.extend(target_df['URL'].to_list())\n",
    "    target_name.extend(target_df['Name'].to_list())"
   ]
  },
  {
   "cell_type": "code",
   "execution_count": 271,
   "metadata": {},
   "outputs": [
    {
     "name": "stdout",
     "output_type": "stream",
     "text": [
      "Total products to be scraped: 5\n"
     ]
    }
   ],
   "source": [
    "get_target_products_from_file('target_products.txt')"
   ]
  },
  {
   "cell_type": "markdown",
   "metadata": {},
   "source": [
    "**Browser Header**"
   ]
  },
  {
   "cell_type": "code",
   "execution_count": 272,
   "metadata": {},
   "outputs": [],
   "source": [
    "headers = {\n",
    "        'user-agent': 'Chrome/83.0.4103.97',\n",
    "        'accept': 'text/html,application/xhtml+xml,application/xml;q=0.9,image/webp,image/apng,*/*;q=0.8,application/signed-exchange;v=b3;q=0.9',\n",
    "        'accept-language': 'en-GB,en-US;q=0.9,en;q=0.8'\n",
    "}\n",
    "     "
   ]
  },
  {
   "cell_type": "markdown",
   "metadata": {},
   "source": [
    "**Get URL HTML**"
   ]
  },
  {
   "cell_type": "code",
   "execution_count": 273,
   "metadata": {},
   "outputs": [],
   "source": [
    "def get_html(url):\n",
    "    global headers\n",
    "    response = requests.get(url,headers=headers)\n",
    "    if response.status_code == 200:\n",
    "        return response.content\n",
    "    else:\n",
    "        return False"
   ]
  },
  {
   "cell_type": "markdown",
   "metadata": {},
   "source": [
    "**Get HTML Soup**"
   ]
  },
  {
   "cell_type": "code",
   "execution_count": 274,
   "metadata": {},
   "outputs": [],
   "source": [
    "def get_html_soup(content):\n",
    "    soup = BeautifulSoup(content,\"html.parser\")\n",
    "    return soup"
   ]
  },
  {
   "cell_type": "markdown",
   "metadata": {},
   "source": [
    "**Get Price**"
   ]
  },
  {
   "cell_type": "code",
   "execution_count": 275,
   "metadata": {},
   "outputs": [],
   "source": [
    "def get_value_by_id(soup,element_id):\n",
    "    try:\n",
    "        value = soup.select(element_id)[0].get_text()\n",
    "        return value\n",
    "    except:\n",
    "        #print(f'Element {element_id} not found')\n",
    "        pass\n",
    "    return False\n",
    "\n",
    "def get_price(soup):\n",
    "    element_ids = ['#priceblock_ourprice','#priceblock_dealprice']\n",
    "    for element_id in element_ids:\n",
    "        price = get_value_by_id(soup,element_id)\n",
    "        if price:\n",
    "            return price\n",
    "    return 'Not Found'"
   ]
  },
  {
   "cell_type": "markdown",
   "metadata": {},
   "source": [
    "**Get Title**"
   ]
  },
  {
   "cell_type": "code",
   "execution_count": 286,
   "metadata": {},
   "outputs": [],
   "source": [
    "def get_title(soup):\n",
    "    element_id = '#title'\n",
    "    try:\n",
    "        title = get_value_by_id(soup,element_id).strip('\\n')\n",
    "    except:\n",
    "        title = 'Not Found'\n",
    "    return title"
   ]
  },
  {
   "cell_type": "markdown",
   "metadata": {},
   "source": [
    "**Get Current Date Time**"
   ]
  },
  {
   "cell_type": "code",
   "execution_count": 287,
   "metadata": {},
   "outputs": [],
   "source": [
    "import datetime\n",
    "def get_current_datetime():\n",
    "    now = datetime.datetime.now()\n",
    "    d1 = now.strftime(\"%Y%m%d_%H%M%S\")\n",
    "    #print(d1)\n",
    "    return d1"
   ]
  },
  {
   "cell_type": "markdown",
   "metadata": {},
   "source": [
    "**Data Frame to maintain Price History**"
   ]
  },
  {
   "cell_type": "code",
   "execution_count": 288,
   "metadata": {},
   "outputs": [
    {
     "name": "stdout",
     "output_type": "stream",
     "text": [
      "Loading Existing Price History\n",
      "Price History initialize with 6 records.\n"
     ]
    }
   ],
   "source": [
    "if path.exists('price_history.csv'):\n",
    "    print('Loading Existing Price History')\n",
    "    price_history_df = pd.read_csv('price_history.csv')\n",
    "    print(f'Price History initialize with {price_history_df.shape[0]} records.')\n",
    "else:\n",
    "    price_history_df = pd.DataFrame(columns=['crawled_datetime','url','product_name','title','price','price_changed_flag'])"
   ]
  },
  {
   "cell_type": "markdown",
   "metadata": {},
   "source": [
    "**Add row to the DataFrame**"
   ]
  },
  {
   "cell_type": "code",
   "execution_count": 289,
   "metadata": {},
   "outputs": [],
   "source": [
    "def append_row_to_price_history_df(row):\n",
    "    global price_history_df\n",
    "    df_length = len(price_history_df) \n",
    "    price_history_df.loc[df_length] = row"
   ]
  },
  {
   "cell_type": "markdown",
   "metadata": {},
   "source": [
    "**Check if price has changed since last run**"
   ]
  },
  {
   "cell_type": "code",
   "execution_count": 290,
   "metadata": {},
   "outputs": [],
   "source": [
    "def has_price_changed(row):\n",
    "    product_name = row[2]\n",
    "    #print(product_name)\n",
    "    last_price = get_last_price(product_name)\n",
    "    #print(last_price)\n",
    "    if last_price =='Not Found':\n",
    "        return False\n",
    "    if last_price != row[4]:\n",
    "        print('Price Changed Detected')\n",
    "        return True\n",
    "    else:\n",
    "        return False"
   ]
  },
  {
   "cell_type": "markdown",
   "metadata": {},
   "source": [
    "**Get Previous Run's price**"
   ]
  },
  {
   "cell_type": "code",
   "execution_count": 291,
   "metadata": {},
   "outputs": [],
   "source": [
    "def get_last_price(product_name):\n",
    "    global price_history_df\n",
    "    most_recent_row = price_history_df.loc[price_history_df['product_name']==product_name]\n",
    "    if len(most_recent_row) >0:\n",
    "        return most_recent_row.iloc[-1]['price']\n",
    "    else:\n",
    "        return 'Not Found'"
   ]
  },
  {
   "cell_type": "markdown",
   "metadata": {},
   "source": [
    "**Convert Price to Number**"
   ]
  },
  {
   "cell_type": "code",
   "execution_count": 292,
   "metadata": {},
   "outputs": [],
   "source": [
    "def get_price_in_num(price):\n",
    "    if len(price) >0 and price[0]=='$':\n",
    "        return float(price[1:])\n",
    "    else:\n",
    "        return 'Not Found'"
   ]
  },
  {
   "cell_type": "markdown",
   "metadata": {},
   "source": [
    "**Function to wait for random seconds before hitting Amazon.com**"
   ]
  },
  {
   "cell_type": "code",
   "execution_count": 293,
   "metadata": {},
   "outputs": [],
   "source": [
    "def random_wait():\n",
    "    sleep_times= [1,2,3,4]\n",
    "    sleep_time = random.choice(sleep_times)\n",
    "    print(f'Sleeping for {sleep_time} seconds before hitting Amazon again ')\n",
    "    time.sleep(sleep_time)"
   ]
  },
  {
   "cell_type": "markdown",
   "metadata": {},
   "source": [
    "**Main Loop**"
   ]
  },
  {
   "cell_type": "code",
   "execution_count": 294,
   "metadata": {},
   "outputs": [
    {
     "name": "stdout",
     "output_type": "stream",
     "text": [
      "Getting prices for Kindle Reader\n",
      "Price Changed Detected\n",
      "Sleeping for 4 seconds before hitting Amazon again \n",
      "Getting prices for Airpods\n",
      "Price Changed Detected\n",
      "Sleeping for 1 seconds before hitting Amazon again \n",
      "Getting prices for Apple Watch Series 6\n",
      "Price Changed Detected\n",
      "Sleeping for 3 seconds before hitting Amazon again \n",
      "Getting prices for Bose SoundLink Micro\n",
      "Sleeping for 4 seconds before hitting Amazon again \n",
      "Getting prices for Bose SoundLink Color\n",
      "Done.\n"
     ]
    }
   ],
   "source": [
    "last_run_index = price_history_df.shape[0]\n",
    "for index,url in enumerate(target_URL):\n",
    "    print(f'Getting prices for {target_name[index]}')\n",
    "    scraped_date_time = get_current_datetime()\n",
    "    content = get_html(url)\n",
    "    if content:\n",
    "        soup = get_html_soup(content)\n",
    "        price = get_price_in_num(get_price(soup))\n",
    "        title = get_title(soup)\n",
    "        #print(f'{target_name[index]} - {title} price is {price}')\n",
    "    else:\n",
    "        print(f'Invalid URL - {url}')\n",
    "        price = 'Not Found'\n",
    "        title = 'Not Found'\n",
    "    row = [scraped_date_time,url,target_name[index],title,price]\n",
    "    if has_price_changed(row):\n",
    "        price_changed_flag = 1\n",
    "    else:\n",
    "        price_changed_flag = 0\n",
    "    row.append(price_changed_flag)\n",
    "    append_row_to_price_history_df(row)\n",
    "    if index < len(target_URL) -1:\n",
    "        random_wait()\n",
    "    else:\n",
    "        print('Done.')"
   ]
  },
  {
   "cell_type": "code",
   "execution_count": 295,
   "metadata": {},
   "outputs": [
    {
     "data": {
      "text/html": [
       "<div>\n",
       "<style scoped>\n",
       "    .dataframe tbody tr th:only-of-type {\n",
       "        vertical-align: middle;\n",
       "    }\n",
       "\n",
       "    .dataframe tbody tr th {\n",
       "        vertical-align: top;\n",
       "    }\n",
       "\n",
       "    .dataframe thead th {\n",
       "        text-align: right;\n",
       "    }\n",
       "</style>\n",
       "<table border=\"1\" class=\"dataframe\">\n",
       "  <thead>\n",
       "    <tr style=\"text-align: right;\">\n",
       "      <th></th>\n",
       "      <th>crawled_datetime</th>\n",
       "      <th>url</th>\n",
       "      <th>product_name</th>\n",
       "      <th>title</th>\n",
       "      <th>price</th>\n",
       "      <th>price_changed_flag</th>\n",
       "    </tr>\n",
       "  </thead>\n",
       "  <tbody>\n",
       "    <tr>\n",
       "      <th>0</th>\n",
       "      <td>20201129_094904</td>\n",
       "      <td>https://www.amazon.com/Kindle-Now-with-Built-i...</td>\n",
       "      <td>Kindle Reader</td>\n",
       "      <td>Kindle - Now with a Built-in Front Light - Bla...</td>\n",
       "      <td>59.99</td>\n",
       "      <td>0</td>\n",
       "    </tr>\n",
       "    <tr>\n",
       "      <th>1</th>\n",
       "      <td>20201129_094909</td>\n",
       "      <td>https://www.amazon.com/Apple-AirPods-Charging-...</td>\n",
       "      <td>Airpods</td>\n",
       "      <td>Apple AirPods with Charging Case (Wired)</td>\n",
       "      <td>109.99</td>\n",
       "      <td>0</td>\n",
       "    </tr>\n",
       "    <tr>\n",
       "      <th>2</th>\n",
       "      <td>20201129_094911</td>\n",
       "      <td>https://www.amazon.com/dp/B08J5MK16F/ref=fs_a_...</td>\n",
       "      <td>Apple Watch Series 6</td>\n",
       "      <td>New Apple Watch Series 6 (GPS, 44mm) - (PRODUC...</td>\n",
       "      <td>409</td>\n",
       "      <td>0</td>\n",
       "    </tr>\n",
       "    <tr>\n",
       "      <th>3</th>\n",
       "      <td>20201129_095011</td>\n",
       "      <td>https://www.amazon.com/Kindle-Now-with-Built-i...</td>\n",
       "      <td>Kindle Reader</td>\n",
       "      <td>Kindle - Now with a Built-in Front Light - Bla...</td>\n",
       "      <td>59.99</td>\n",
       "      <td>0</td>\n",
       "    </tr>\n",
       "    <tr>\n",
       "      <th>4</th>\n",
       "      <td>20201129_095017</td>\n",
       "      <td>https://www.amazon.com/Apple-AirPods-Charging-...</td>\n",
       "      <td>Airpods</td>\n",
       "      <td>Apple AirPods with Charging Case (Wired)</td>\n",
       "      <td>109.99</td>\n",
       "      <td>0</td>\n",
       "    </tr>\n",
       "    <tr>\n",
       "      <th>5</th>\n",
       "      <td>20201129_095019</td>\n",
       "      <td>https://www.amazon.com/dp/B08J5MK16F/ref=fs_a_...</td>\n",
       "      <td>Apple Watch Series 6</td>\n",
       "      <td>New Apple Watch Series 6 (GPS, 44mm) - (PRODUC...</td>\n",
       "      <td>409</td>\n",
       "      <td>0</td>\n",
       "    </tr>\n",
       "    <tr>\n",
       "      <th>6</th>\n",
       "      <td>20201205_090702</td>\n",
       "      <td>https://www.amazon.com/Kindle-Now-with-Built-i...</td>\n",
       "      <td>Kindle Reader</td>\n",
       "      <td>Kindle - Now with a Built-in Front Light - Bla...</td>\n",
       "      <td>89.99</td>\n",
       "      <td>1</td>\n",
       "    </tr>\n",
       "    <tr>\n",
       "      <th>7</th>\n",
       "      <td>20201205_090708</td>\n",
       "      <td>https://www.amazon.com/Apple-AirPods-Charging-...</td>\n",
       "      <td>Airpods</td>\n",
       "      <td>Apple AirPods with Charging Case (Wired)</td>\n",
       "      <td>Not Found</td>\n",
       "      <td>1</td>\n",
       "    </tr>\n",
       "    <tr>\n",
       "      <th>8</th>\n",
       "      <td>20201205_090710</td>\n",
       "      <td>https://www.amazon.com/dp/B08J5MK16F/ref=fs_a_...</td>\n",
       "      <td>Apple Watch Series 6</td>\n",
       "      <td>New Apple Watch Series 6 (GPS, 44mm) - Space G...</td>\n",
       "      <td>414</td>\n",
       "      <td>1</td>\n",
       "    </tr>\n",
       "    <tr>\n",
       "      <th>9</th>\n",
       "      <td>20201205_090715</td>\n",
       "      <td>https://www.amazon.com/Bose-SoundLink-Micro-Bl...</td>\n",
       "      <td>Bose SoundLink Micro</td>\n",
       "      <td>Not Found</td>\n",
       "      <td>Not Found</td>\n",
       "      <td>0</td>\n",
       "    </tr>\n",
       "    <tr>\n",
       "      <th>10</th>\n",
       "      <td>20201205_090720</td>\n",
       "      <td>https://www.amazon.com/Bose-SoundLink-Color-Bl...</td>\n",
       "      <td>Bose SoundLink Color</td>\n",
       "      <td>Not Found</td>\n",
       "      <td>Not Found</td>\n",
       "      <td>0</td>\n",
       "    </tr>\n",
       "  </tbody>\n",
       "</table>\n",
       "</div>"
      ],
      "text/plain": [
       "   crawled_datetime                                                url  \\\n",
       "0   20201129_094904  https://www.amazon.com/Kindle-Now-with-Built-i...   \n",
       "1   20201129_094909  https://www.amazon.com/Apple-AirPods-Charging-...   \n",
       "2   20201129_094911  https://www.amazon.com/dp/B08J5MK16F/ref=fs_a_...   \n",
       "3   20201129_095011  https://www.amazon.com/Kindle-Now-with-Built-i...   \n",
       "4   20201129_095017  https://www.amazon.com/Apple-AirPods-Charging-...   \n",
       "5   20201129_095019  https://www.amazon.com/dp/B08J5MK16F/ref=fs_a_...   \n",
       "6   20201205_090702  https://www.amazon.com/Kindle-Now-with-Built-i...   \n",
       "7   20201205_090708  https://www.amazon.com/Apple-AirPods-Charging-...   \n",
       "8   20201205_090710  https://www.amazon.com/dp/B08J5MK16F/ref=fs_a_...   \n",
       "9   20201205_090715  https://www.amazon.com/Bose-SoundLink-Micro-Bl...   \n",
       "10  20201205_090720  https://www.amazon.com/Bose-SoundLink-Color-Bl...   \n",
       "\n",
       "            product_name                                              title  \\\n",
       "0          Kindle Reader  Kindle - Now with a Built-in Front Light - Bla...   \n",
       "1                Airpods           Apple AirPods with Charging Case (Wired)   \n",
       "2   Apple Watch Series 6  New Apple Watch Series 6 (GPS, 44mm) - (PRODUC...   \n",
       "3          Kindle Reader  Kindle - Now with a Built-in Front Light - Bla...   \n",
       "4                Airpods           Apple AirPods with Charging Case (Wired)   \n",
       "5   Apple Watch Series 6  New Apple Watch Series 6 (GPS, 44mm) - (PRODUC...   \n",
       "6          Kindle Reader  Kindle - Now with a Built-in Front Light - Bla...   \n",
       "7                Airpods           Apple AirPods with Charging Case (Wired)   \n",
       "8   Apple Watch Series 6  New Apple Watch Series 6 (GPS, 44mm) - Space G...   \n",
       "9   Bose SoundLink Micro                                          Not Found   \n",
       "10  Bose SoundLink Color                                          Not Found   \n",
       "\n",
       "        price  price_changed_flag  \n",
       "0       59.99                   0  \n",
       "1      109.99                   0  \n",
       "2         409                   0  \n",
       "3       59.99                   0  \n",
       "4      109.99                   0  \n",
       "5         409                   0  \n",
       "6       89.99                   1  \n",
       "7   Not Found                   1  \n",
       "8         414                   1  \n",
       "9   Not Found                   0  \n",
       "10  Not Found                   0  "
      ]
     },
     "execution_count": 295,
     "metadata": {},
     "output_type": "execute_result"
    }
   ],
   "source": [
    "price_history_df"
   ]
  },
  {
   "cell_type": "code",
   "execution_count": 222,
   "metadata": {},
   "outputs": [],
   "source": [
    "#price_history_df.iloc[9,4] = '$60.9'"
   ]
  },
  {
   "cell_type": "markdown",
   "metadata": {},
   "source": [
    "**Detect Changes and Send Email**"
   ]
  },
  {
   "cell_type": "code",
   "execution_count": 296,
   "metadata": {},
   "outputs": [],
   "source": [
    "\n",
    "def get_pwd():\n",
    "    with open('pwd.txt','r') as f:\n",
    "        return f.readline()\n",
    "\n",
    "    \n",
    "    \n",
    "def prepare_html_msg(df):\n",
    "    msg = MIMEMultipart()\n",
    "    msg['Subject'] = \"Price Change Detected\"\n",
    "    msg['From'] = 'raagabot@gmail.com'\n",
    "    html = \"\"\"\\\n",
    "            <html>\n",
    "            <head></head>\n",
    "            <body>\n",
    "            {0}\n",
    "            </body>\n",
    "            </html>\n",
    "            \"\"\".format(df.to_html())\n",
    "    part1 = MIMEText(html, 'html')\n",
    "    msg.attach(part1)\n",
    "    return msg\n",
    "\n",
    "def send_email(msg):\n",
    "    recipients = ['raghav.atal@gmail.com'] \n",
    "    emaillist = [elem.strip().split(',') for elem in recipients]\n",
    "    sender = 'raagabot@gmail.com'\n",
    "    # Create secure connection with server and send email\n",
    "    \n",
    "    context = ssl.create_default_context()\n",
    "    with smtplib.SMTP_SSL(\"smtp.gmail.com\", 465, context=context) as server:\n",
    "        server.login(sender, get_pwd())\n",
    "        server.sendmail(\n",
    "            sender, emaillist, msg.as_string()\n",
    "        )\n",
    "        \n",
    "def check_and_send_email():\n",
    "    global price_history_df\n",
    "    df = price_history_df.iloc[last_run_index:]\n",
    "    changed_df = df[df['price_changed_flag']==1]\n",
    "    if changed_df.shape[0] >0:\n",
    "        msg = prepare_html_msg(changed_df)\n",
    "        send_email(msg)\n",
    "        print('Emal Sent.')\n",
    "    else:\n",
    "        print('No Price Change Detected')"
   ]
  },
  {
   "cell_type": "code",
   "execution_count": 297,
   "metadata": {},
   "outputs": [
    {
     "name": "stdout",
     "output_type": "stream",
     "text": [
      "Emal Sent.\n"
     ]
    }
   ],
   "source": [
    "check_and_send_email()"
   ]
  },
  {
   "cell_type": "markdown",
   "metadata": {},
   "source": [
    "**Save price history to disk**"
   ]
  },
  {
   "cell_type": "code",
   "execution_count": 298,
   "metadata": {},
   "outputs": [],
   "source": [
    "price_history_df.to_csv('price_history.csv',index=False)"
   ]
  },
  {
   "cell_type": "code",
   "execution_count": 299,
   "metadata": {},
   "outputs": [
    {
     "name": "stderr",
     "output_type": "stream",
     "text": [
      "[NbConvertApp] Converting notebook V9_Amazon_Price_Tracker.ipynb to script\n",
      "[NbConvertApp] Writing 7082 bytes to V9_Amazon_Price_Tracker.py\n"
     ]
    }
   ],
   "source": [
    "!jupyter nbconvert --to script V9_Amazon_Price_Tracker.ipynb"
   ]
  },
  {
   "cell_type": "code",
   "execution_count": null,
   "metadata": {},
   "outputs": [],
   "source": []
  }
 ],
 "metadata": {
  "kernelspec": {
   "display_name": "Python 3",
   "language": "python",
   "name": "python3"
  },
  "language_info": {
   "codemirror_mode": {
    "name": "ipython",
    "version": 3
   },
   "file_extension": ".py",
   "mimetype": "text/x-python",
   "name": "python",
   "nbconvert_exporter": "python",
   "pygments_lexer": "ipython3",
   "version": "3.6.12"
  }
 },
 "nbformat": 4,
 "nbformat_minor": 4
}
